{
 "cells": [
  {
   "cell_type": "markdown",
   "id": "cda1e087-7902-4ade-bd87-42b7fc0a1b3e",
   "metadata": {},
   "source": [
    "# SUKL\n",
    "\n",
    "URL: [https://www.sukl.sk/hlavna-stranka/slovenska-verzia/databazy-a-servis/vyhladavanie-liekov-zdravotnickych-pomocok-a-zmien-v-liekovej-databaze/vyhladavanie-v-databaze-registrovanych-liekov](https://www.sukl.sk/hlavna-stranka/slovenska-verzia/databazy-a-servis/vyhladavanie-liekov-zdravotnickych-pomocok-a-zmien-v-liekovej-databaze/vyhladavanie-v-databaze-registrovanych-liekov)"
   ]
  },
  {
   "cell_type": "code",
   "execution_count": 31,
   "id": "c522674a-8fcf-463e-bf10-e4d0784ad258",
   "metadata": {},
   "outputs": [],
   "source": [
    "import logging\n",
    "\n",
    "logging.basicConfig(\n",
    "    level=logging.INFO,\n",
    "    format='%(asctime)s - %(levelname)s - %(message)s'\n",
    ")\n",
    "\n",
    "import base64\n",
    "import glob\n",
    "import hashlib\n",
    "import io\n",
    "import json\n",
    "import os\n",
    "import pandas as pd\n",
    "import re\n",
    "import requests\n",
    "import tarfile\n",
    "import zipfile\n",
    "\n",
    "from bs4 import BeautifulSoup\n",
    "from IPython.display import IFrame, HTML, JSON\n",
    "from tqdm.notebook import trange, tqdm\n",
    "from urllib.parse import parse_qs, urlparse, unquote, urljoin"
   ]
  },
  {
   "cell_type": "code",
   "execution_count": 2,
   "id": "c2a6c2bd-5b3c-419e-877e-ae6f3359e4ce",
   "metadata": {},
   "outputs": [],
   "source": [
    "def get_url(page=None):\n",
    "    return 'https://www.sukl.sk/hlavna-stranka/slovenska-verzia/databazy-a-servis/vyhladavanie-liekov-zdravotnickych-pomocok-a-zmien-v-liekovej-databaze/vyhladavanie-v-databaze-registrovanych-liekov?page_id=242&lie_nazov=&atc_nazov=&lie_kod=&atc_kod=&lie_rc=&drz_kod=' + ('&page={page}' if page else '')"
   ]
  },
  {
   "cell_type": "code",
   "execution_count": 3,
   "id": "43452f5f-0a80-424e-8d92-95efdde28a03",
   "metadata": {},
   "outputs": [
    {
     "name": "stderr",
     "output_type": "stream",
     "text": [
      "2025-07-01 06:37:13,829 - INFO - https://www.sukl.sk/hlavna-stranka/slovenska-verzia/databazy-a-servis/vyhladavanie-liekov-zdravotnickych-pomocok-a-zmien-v-liekovej-databaze/vyhladavanie-v-databaze-registrovanych-liekov?page_id=242&lie_nazov=&atc_nazov=&lie_kod=&atc_kod=&lie_rc=&drz_kod=\n"
     ]
    }
   ],
   "source": [
    "# initial page\n",
    "page = 1\n",
    "url = get_url()\n",
    "logging.info(url)\n",
    "resp = requests.get(url)\n",
    "\n",
    "# Parse the HTML content\n",
    "soup = BeautifulSoup(resp.text, 'html.parser')"
   ]
  },
  {
   "cell_type": "code",
   "execution_count": 4,
   "id": "262df6fc-40cc-47a0-b228-dac98d6fa6bd",
   "metadata": {},
   "outputs": [
    {
     "data": {
      "text/plain": [
       "'https://www.sukl.sk/hlavna-stranka/slovenska-verzia/databazy-a-servis/vyhladavanie-liekov-zdravotnickych-pomocok-a-zmien-v-liekovej-databaze/vyhladavanie-v-databaze-registrovanych-liekov?page_id=242&lie_nazov=&atc_nazov=&lie_kod=&atc_kod=&lie_rc=&drz_kod=&page=3580'"
      ]
     },
     "execution_count": 4,
     "metadata": {},
     "output_type": "execute_result"
    }
   ],
   "source": [
    "base_url = 'https://www.sukl.sk'\n",
    "pages = soup.select(\"li.page-item.page-item-number > a\")\n",
    "last_page_url = urljoin(base_url, pages[-1]['href'])\n",
    "last_page_url"
   ]
  },
  {
   "cell_type": "code",
   "execution_count": 23,
   "id": "1e98930e-329f-4f17-bacb-24beafe6c5b7",
   "metadata": {},
   "outputs": [
    {
     "data": {
      "text/plain": [
       "3580"
      ]
     },
     "execution_count": 23,
     "metadata": {},
     "output_type": "execute_result"
    }
   ],
   "source": [
    "last_page = int(parse_qs(urlparse(last_page_url).query)['page'][0])\n",
    "last_page"
   ]
  },
  {
   "cell_type": "code",
   "execution_count": 30,
   "id": "7fc9392d-9e32-4c4f-96cc-9b32d7ee9208",
   "metadata": {},
   "outputs": [
    {
     "data": {
      "application/vnd.jupyter.widget-view+json": {
       "model_id": "970894dfc41544559d9caffa7c8b63b2",
       "version_major": 2,
       "version_minor": 0
      },
      "text/plain": [
       "  0%|          | 0/3580 [00:00<?, ?it/s]"
      ]
     },
     "metadata": {},
     "output_type": "display_data"
    }
   ],
   "source": [
    "dir_name = os.path.join('.', 'sukl')\n",
    "os.makedirs(dir_name, exist_ok=True)\n",
    "\n",
    "for page in tqdm(range(0, last_page)):\n",
    "    url = get_url(page=page)\n",
    "    resp = requests.get(url)\n",
    "    filename = os.path.join(\n",
    "        dir_name,\n",
    "        f'sukl_page{page:06d}.html'\n",
    "    )\n",
    "    with open(filename, mode='w') as f:\n",
    "        f.write(resp.text)"
   ]
  },
  {
   "cell_type": "code",
   "execution_count": 40,
   "id": "f5dbf3f9-b0fa-477b-b788-584814ed858e",
   "metadata": {},
   "outputs": [
    {
     "data": {
      "application/vnd.jupyter.widget-view+json": {
       "model_id": "453dd34c488f4f7aa5bd3d9132c73afb",
       "version_major": 2,
       "version_minor": 0
      },
      "text/plain": [
       "  0%|          | 0/3580 [00:00<?, ?it/s]"
      ]
     },
     "metadata": {},
     "output_type": "display_data"
    }
   ],
   "source": [
    "html_files = glob.glob('*.html', root_dir=dir_name)\n",
    "pbar = tqdm(html_files)\n",
    "drug_pages = []\n",
    "for html_file in pbar:\n",
    "    with open(os.path.join(dir_name, html_file), mode='r') as f:\n",
    "        html = f.read()\n",
    "        soup = BeautifulSoup(html, 'html.parser')\n",
    "        links = soup.select('span.result-cell__value > a')\n",
    "        for link in links:\n",
    "            url = link['href']\n",
    "            drug_pages.append(url)\n",
    "    pbar.set_description(f'{html_file} ({len(drug_pages)})')"
   ]
  },
  {
   "cell_type": "code",
   "execution_count": 41,
   "id": "d3bcc2e6-3aaa-4c73-9253-4f12c27f29a6",
   "metadata": {},
   "outputs": [
    {
     "data": {
      "text/plain": [
       "['https://www.sukl.sk/hlavna-stranka/slovenska-verzia/pomocne-stranky/detail-lieku?page_id=386&lie_id=66064',\n",
       " 'https://www.sukl.sk/hlavna-stranka/slovenska-verzia/pomocne-stranky/detail-lieku?page_id=386&lie_id=66065',\n",
       " 'https://www.sukl.sk/hlavna-stranka/slovenska-verzia/pomocne-stranky/detail-lieku?page_id=386&lie_id=3837E',\n",
       " 'https://www.sukl.sk/hlavna-stranka/slovenska-verzia/pomocne-stranky/detail-lieku?page_id=386&lie_id=1404D',\n",
       " 'https://www.sukl.sk/hlavna-stranka/slovenska-verzia/pomocne-stranky/detail-lieku?page_id=386&lie_id=9794B',\n",
       " 'https://www.sukl.sk/hlavna-stranka/slovenska-verzia/pomocne-stranky/detail-lieku?page_id=386&lie_id=8009D',\n",
       " 'https://www.sukl.sk/hlavna-stranka/slovenska-verzia/pomocne-stranky/detail-lieku?page_id=386&lie_id=8008D',\n",
       " 'https://www.sukl.sk/hlavna-stranka/slovenska-verzia/pomocne-stranky/detail-lieku?page_id=386&lie_id=8986E',\n",
       " 'https://www.sukl.sk/hlavna-stranka/slovenska-verzia/pomocne-stranky/detail-lieku?page_id=386&lie_id=6746E',\n",
       " 'https://www.sukl.sk/hlavna-stranka/slovenska-verzia/pomocne-stranky/detail-lieku?page_id=386&lie_id=6745E',\n",
       " 'https://www.sukl.sk/hlavna-stranka/slovenska-verzia/pomocne-stranky/detail-lieku?page_id=386&lie_id=6458E',\n",
       " 'https://www.sukl.sk/hlavna-stranka/slovenska-verzia/pomocne-stranky/detail-lieku?page_id=386&lie_id=6368E',\n",
       " 'https://www.sukl.sk/hlavna-stranka/slovenska-verzia/pomocne-stranky/detail-lieku?page_id=386&lie_id=3690E',\n",
       " 'https://www.sukl.sk/hlavna-stranka/slovenska-verzia/pomocne-stranky/detail-lieku?page_id=386&lie_id=3202E',\n",
       " 'https://www.sukl.sk/hlavna-stranka/slovenska-verzia/pomocne-stranky/detail-lieku?page_id=386&lie_id=3201E',\n",
       " 'https://www.sukl.sk/hlavna-stranka/slovenska-verzia/pomocne-stranky/detail-lieku?page_id=386&lie_id=66064',\n",
       " 'https://www.sukl.sk/hlavna-stranka/slovenska-verzia/pomocne-stranky/detail-lieku?page_id=386&lie_id=66065',\n",
       " 'https://www.sukl.sk/hlavna-stranka/slovenska-verzia/pomocne-stranky/detail-lieku?page_id=386&lie_id=3837E',\n",
       " 'https://www.sukl.sk/hlavna-stranka/slovenska-verzia/pomocne-stranky/detail-lieku?page_id=386&lie_id=1404D',\n",
       " 'https://www.sukl.sk/hlavna-stranka/slovenska-verzia/pomocne-stranky/detail-lieku?page_id=386&lie_id=9794B',\n",
       " 'https://www.sukl.sk/hlavna-stranka/slovenska-verzia/pomocne-stranky/detail-lieku?page_id=386&lie_id=8009D',\n",
       " 'https://www.sukl.sk/hlavna-stranka/slovenska-verzia/pomocne-stranky/detail-lieku?page_id=386&lie_id=8008D',\n",
       " 'https://www.sukl.sk/hlavna-stranka/slovenska-verzia/pomocne-stranky/detail-lieku?page_id=386&lie_id=8986E',\n",
       " 'https://www.sukl.sk/hlavna-stranka/slovenska-verzia/pomocne-stranky/detail-lieku?page_id=386&lie_id=6746E',\n",
       " 'https://www.sukl.sk/hlavna-stranka/slovenska-verzia/pomocne-stranky/detail-lieku?page_id=386&lie_id=6745E']"
      ]
     },
     "execution_count": 41,
     "metadata": {},
     "output_type": "execute_result"
    }
   ],
   "source": [
    "drug_pages[:25]"
   ]
  },
  {
   "cell_type": "code",
   "execution_count": null,
   "id": "a541cd17-58f1-49c6-a3ed-7517896daf7e",
   "metadata": {},
   "outputs": [
    {
     "data": {
      "application/vnd.jupyter.widget-view+json": {
       "model_id": "1c935095c7bf43a0ac445f4680ea5273",
       "version_major": 2,
       "version_minor": 0
      },
      "text/plain": [
       "  0%|          | 0/53700 [00:00<?, ?it/s]"
      ]
     },
     "metadata": {},
     "output_type": "display_data"
    }
   ],
   "source": [
    "dir_name = os.path.join('.', 'sukl_drugs')\n",
    "os.makedirs(dir_name, exist_ok=True)\n",
    "\n",
    "pbar = tqdm(drug_pages)\n",
    "for url in pbar:\n",
    "    pbar.set_description(f'{url}')\n",
    "    drug_id = parse_qs(url)['lie_id'][0]\n",
    "    resp = requests.get(url)\n",
    "    html = resp.text\n",
    "    filename = os.path.join(\n",
    "        dir_name,\n",
    "        f'sukl_drug_{drug_id}.html'\n",
    "    )\n",
    "    with open(filename, mode='w') as f:\n",
    "        f.write(html)"
   ]
  },
  {
   "cell_type": "code",
   "execution_count": null,
   "id": "70afc543-3845-48dc-b993-7b1a1464ea16",
   "metadata": {},
   "outputs": [],
   "source": [
    "dir_name = os.path.join('.', 'sukl_drugs')\n",
    "html_files = glob.glob('*.html', root_dir=dir_name)\n",
    "pbar = tqdm(html_files)\n",
    "drugs = pd.DataFrame()\n",
    "for html_file in pbar:\n",
    "    with open(os.path.join(dir_name, html_file), mode='r') as f:\n",
    "        pbar.set_description(f'{html_file}')\n",
    "        soup = BeautifulSoup(html, 'html.parser')\n",
    "        td_labels = soup.select('td.drug-detail__detail-label')\n",
    "        drug_metadata = {}\n",
    "        for td_label in td_labels:\n",
    "            label = td_label.text.strip().strip(':')\n",
    "            td_value = td_label.find_next_sibling('td')\n",
    "            value = td_value.text.strip()\n",
    "            drug_metadata = drug_metadata | { label: value }\n",
    "        display(JSON(drug_metadata))\n",
    "    break"
   ]
  }
 ],
 "metadata": {
  "kernelspec": {
   "display_name": "Python 3 (ipykernel)",
   "language": "python",
   "name": "python3"
  },
  "language_info": {
   "codemirror_mode": {
    "name": "ipython",
    "version": 3
   },
   "file_extension": ".py",
   "mimetype": "text/x-python",
   "name": "python",
   "nbconvert_exporter": "python",
   "pygments_lexer": "ipython3",
   "version": "3.11.0rc1"
  }
 },
 "nbformat": 4,
 "nbformat_minor": 5
}
